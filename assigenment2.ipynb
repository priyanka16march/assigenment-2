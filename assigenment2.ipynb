{
 "cells": [
  {
   "cell_type": "code",
   "execution_count": null,
   "metadata": {},
   "outputs": [],
   "source": [
    "num1 = []\n",
    "while True:\n",
    "    num1 = int(input())\n",
    "    if num1 == '':\n",
    "        break\n",
    "    num1 = int(input(\"enter the table of:\"))\n",
    "    if num1 == 0:\n",
    "        break\n",
    "\n",
    "    for var1 in range(1,11):\n",
    "        var2 = var1 * num1\n",
    "        print(f\"{num1} * {var1} = {var2}\")\n",
    "print(\"congrts out of loop\")    "
   ]
  },
  {
   "cell_type": "code",
   "execution_count": null,
   "metadata": {},
   "outputs": [],
   "source": [
    "num1 = []\n",
    "while True:\n",
    "    num1 = int(input())\n",
    "    if num1 == '':\n",
    "        break\n",
    "    num1 = int(input(\"enter the table of:\"))\n",
    "    if num1 == 0:\n",
    "        break\n",
    "\n",
    "    for var1 in range(1,11):\n",
    "        var2 = var1 * num1\n",
    "        print(f\"{num1} * {var1} = {var2}\")\n",
    "print(\"congrts out of loop\")   "
   ]
  },
  {
   "cell_type": "code",
   "execution_count": 3,
   "metadata": {},
   "outputs": [
    {
     "name": "stdin",
     "output_type": "stream",
     "text": [
      "enter the table of: 6\n"
     ]
    },
    {
     "name": "stdout",
     "output_type": "stream",
     "text": [
      "6 * 1 = 6\n",
      "6 * 2 = 12\n",
      "6 * 3 = 18\n",
      "6 * 4 = 24\n",
      "6 * 5 = 30\n",
      "6 * 6 = 36\n",
      "6 * 7 = 42\n",
      "6 * 8 = 48\n",
      "6 * 9 = 54\n",
      "6 * 10 = 60\n"
     ]
    },
    {
     "name": "stdin",
     "output_type": "stream",
     "text": [
      "enter the table of: 7\n"
     ]
    },
    {
     "name": "stdout",
     "output_type": "stream",
     "text": [
      "7 * 1 = 7\n",
      "7 * 2 = 14\n",
      "7 * 3 = 21\n",
      "7 * 4 = 28\n",
      "7 * 5 = 35\n",
      "7 * 6 = 42\n",
      "7 * 7 = 49\n",
      "7 * 8 = 56\n",
      "7 * 9 = 63\n",
      "7 * 10 = 70\n"
     ]
    },
    {
     "name": "stdin",
     "output_type": "stream",
     "text": [
      "enter the table of: 0\n"
     ]
    },
    {
     "name": "stdout",
     "output_type": "stream",
     "text": [
      "congrts out of loop\n",
      "table inside the list:\n"
     ]
    }
   ],
   "source": [
    "num = []\n",
    "while True:\n",
    "    num1 = int(input(\"enter the table of:\"))\n",
    "    if num1 == 0:\n",
    "        break\n",
    " \n",
    "    for var1 in range(1,11):\n",
    "        var2 = var1 * num1\n",
    "        print(f\"{num1} * {var1} = {var2}\")\n",
    "print(\"congrts out of loop\")   \n",
    "print(\"table inside the list:\")\n",
    "for num1 in num:\n",
    "    print(num)"
   ]
  },
  {
   "cell_type": "code",
   "execution_count": 4,
   "metadata": {},
   "outputs": [
    {
     "name": "stdin",
     "output_type": "stream",
     "text": [
      "enter the table of: 1\n"
     ]
    },
    {
     "name": "stdout",
     "output_type": "stream",
     "text": [
      "congrts out of loop\n",
      "table inside the list:\n",
      "1 * 1 = 1\n",
      "1 * 2 = 2\n",
      "1 * 3 = 3\n",
      "1 * 4 = 4\n",
      "1 * 5 = 5\n",
      "1 * 6 = 6\n",
      "1 * 7 = 7\n",
      "1 * 8 = 8\n",
      "1 * 9 = 9\n",
      "1 * 10 = 10\n"
     ]
    }
   ],
   "source": [
    "    num = []\n",
    "    while True:\n",
    "        n = int(input(\"enter the table of:\"))\n",
    "        if n == 1:\n",
    "            \n",
    "            break\n",
    "    print(\"congrts out of loop\")\n",
    "    print(\"table inside the list:\")\n",
    "    for i in range(1,11):\n",
    "        num = n * i\n",
    "        print(f\"{n} * {i} = {num}\")\n"
   ]
  },
  {
   "cell_type": "code",
   "execution_count": 19,
   "metadata": {},
   "outputs": [
    {
     "name": "stdin",
     "output_type": "stream",
     "text": [
      "enter the table of: 9\n",
      "enter the table of: 8\n",
      "enter the table of: 0\n"
     ]
    },
    {
     "name": "stdout",
     "output_type": "stream",
     "text": [
      "congrts out of loop\n",
      "0 * 10 = 0\n"
     ]
    }
   ],
   "source": [
    "while True:\n",
    "    num = int(input(\"enter the table of:\"))\n",
    "    if num == 0:\n",
    "        break\n",
    "print(\"congrts out of loop\")\n",
    "for var1 in range(1,11):\n",
    "    \n",
    "    var2 = var1 * num\n",
    "print(f\"{num} * {var1} = {var2}\")"
   ]
  },
  {
   "cell_type": "code",
   "execution_count": null,
   "metadata": {},
   "outputs": [],
   "source": []
  }
 ],
 "metadata": {
  "kernelspec": {
   "display_name": "Python 3",
   "language": "python",
   "name": "python3"
  },
  "language_info": {
   "codemirror_mode": {
    "name": "ipython",
    "version": 3
   },
   "file_extension": ".py",
   "mimetype": "text/x-python",
   "name": "python",
   "nbconvert_exporter": "python",
   "pygments_lexer": "ipython3",
   "version": "3.8.5"
  }
 },
 "nbformat": 4,
 "nbformat_minor": 4
}
